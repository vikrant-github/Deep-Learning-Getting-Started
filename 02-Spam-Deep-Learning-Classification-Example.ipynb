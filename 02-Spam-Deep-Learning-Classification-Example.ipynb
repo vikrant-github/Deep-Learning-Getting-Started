{
 "cells": [
  {
   "cell_type": "markdown",
   "id": "bf96174c",
   "metadata": {},
   "source": [
    "## Deep Learning ANN Model with Unstructured Data to perform message classification."
   ]
  },
  {
   "cell_type": "code",
   "execution_count": 1,
   "id": "515b4e46",
   "metadata": {},
   "outputs": [],
   "source": [
    "! python -c 'tensorflow' || pip tensorflow --user"
   ]
  },
  {
   "cell_type": "code",
   "execution_count": 2,
   "id": "a9e750ea",
   "metadata": {},
   "outputs": [],
   "source": [
    "import tensorflow as tf\n",
    "import os \n",
    "import numpy as np\n",
    "import pandas as pd\n",
    "from sklearn.model_selection import train_test_split\n",
    "from sklearn.preprocessing import scale"
   ]
  },
  {
   "cell_type": "markdown",
   "id": "eea2e3f6",
   "metadata": {},
   "source": [
    "### Importing required text processing libraries "
   ]
  },
  {
   "cell_type": "code",
   "execution_count": 3,
   "id": "1eba13d2",
   "metadata": {
    "scrolled": true
   },
   "outputs": [
    {
     "name": "stderr",
     "output_type": "stream",
     "text": [
      "[nltk_data] Downloading package stopwords to\n",
      "[nltk_data]     C:\\Users\\mail2\\AppData\\Roaming\\nltk_data...\n",
      "[nltk_data]   Package stopwords is already up-to-date!\n",
      "[nltk_data] Downloading package punkt to\n",
      "[nltk_data]     C:\\Users\\mail2\\AppData\\Roaming\\nltk_data...\n",
      "[nltk_data]   Package punkt is already up-to-date!\n",
      "[nltk_data] Downloading package wordnet to\n",
      "[nltk_data]     C:\\Users\\mail2\\AppData\\Roaming\\nltk_data...\n",
      "[nltk_data]   Package wordnet is already up-to-date!\n"
     ]
    }
   ],
   "source": [
    "import nltk\n",
    "\n",
    "nltk.download('stopwords')\n",
    "nltk.download('punkt')\n",
    "\n",
    "from nltk.corpus import stopwords\n",
    "\n",
    "nltk.download('wordnet')\n",
    "from nltk.stem import WordNetLemmatizer\n",
    "lemmatizer = WordNetLemmatizer()"
   ]
  },
  {
   "cell_type": "markdown",
   "id": "5fc8ff50",
   "metadata": {},
   "source": [
    "### Creating Text Representations \n",
    "\n",
    "#### Text data needs to be converted to numeric representations before they can be used to train deep learning models. The Spam classification feature data is converted to TF-IDF vectors and the target variable is converted to one-hot encoding."
   ]
  },
  {
   "cell_type": "code",
   "execution_count": 4,
   "id": "adc9e478",
   "metadata": {},
   "outputs": [
    {
     "name": "stdout",
     "output_type": "stream",
     "text": [
      "\n",
      " Loaded Data :\n",
      "-----------------------\n",
      "  CLASS                                                SMS\n",
      "0   ham   said kiss, kiss, i can't do the sound effects...\n",
      "1   ham      &lt;#&gt; ISH MINUTES WAS 5 MINUTES AGO. WTF.\n",
      "2  spam  (Bank of Granite issues Strong-Buy) EXPLOSIVE ...\n",
      "3  spam  * FREE* POLYPHONIC RINGTONE Text SUPER to 8713...\n",
      "4  spam  **FREE MESSAGE**Thanks for using the Auction S...\n"
     ]
    }
   ],
   "source": [
    "# Load Spam Data and review content\n",
    "spam_data = pd.read_csv('Spam-Classification.csv')\n",
    "\n",
    "print('\\n Loaded Data :\\n-----------------------')\n",
    "print(spam_data.head())"
   ]
  },
  {
   "cell_type": "code",
   "execution_count": 5,
   "id": "bd9b5404",
   "metadata": {},
   "outputs": [],
   "source": [
    "# Separate feature and target data\n",
    "spam_classes_raw = spam_data['CLASS']\n",
    "spam_messages = spam_data['SMS']"
   ]
  },
  {
   "cell_type": "code",
   "execution_count": 6,
   "id": "c2f5124a",
   "metadata": {},
   "outputs": [
    {
     "name": "stdout",
     "output_type": "stream",
     "text": [
      "TF-IDF Matrix Shape:  (1500, 4566)\n",
      "One-hot Encoding Shape :  (1500, 2)\n"
     ]
    }
   ],
   "source": [
    "# Custom tokenizer to tokenize sentences, remove stopwords and use lemmatization \n",
    "def customtokenize(str):\n",
    "    #Split string as tokens\n",
    "    tokens = nltk.word_tokenize(str)\n",
    "    # Filter for stopwords\n",
    "    nostop = list(filter(lambda token: token not in stopwords.words('english'), tokens))\n",
    "    # Perform lemmatization\n",
    "    lemmatized = [lemmatizer.lemmatize(word) for word in nostop]\n",
    "    return lemmatized\n",
    "\n",
    "from sklearn.feature_extraction.text import TfidfVectorizer\n",
    "\n",
    "# Build a TF-IDF Vectorizer model\n",
    "vectorizer = TfidfVectorizer(tokenizer=customtokenize)\n",
    "\n",
    "#Transform feature input to TF-IDF\n",
    "tfidf = vectorizer.fit_transform(spam_messages)\n",
    "\n",
    "#convert TF-IDF to numpy array\n",
    "tfidf_array = tfidf.toarray()\n",
    "\n",
    "#Build a label encoder for target variable to convert strings to numeric values\n",
    "from sklearn import preprocessing\n",
    "label_encoder = preprocessing.LabelEncoder()\n",
    "spam_classes = label_encoder.fit_transform(spam_classes_raw)\n",
    "\n",
    "#Convert target to one-hot encoding vector\n",
    "spam_classes = tf.keras.utils.to_categorical(spam_classes, 2)\n",
    "\n",
    "print(\"TF-IDF Matrix Shape: \", tfidf_array.shape)\n",
    "print(\"One-hot Encoding Shape : \", spam_classes.shape)\n",
    "\n",
    "#Convert target to one-hot encoding vector\n",
    "X_train, X_test, Y_train, Y_test = train_test_split(tfidf_array, spam_classes, test_size= 0.10)\n"
   ]
  },
  {
   "cell_type": "markdown",
   "id": "ac524fb0",
   "metadata": {},
   "source": [
    "### Building and Evaluating a Deep Learning Model for Spam Classification"
   ]
  },
  {
   "cell_type": "code",
   "execution_count": 7,
   "id": "8ac0e149",
   "metadata": {},
   "outputs": [
    {
     "name": "stdout",
     "output_type": "stream",
     "text": [
      "Model: \"sequential\"\n",
      "_________________________________________________________________\n",
      " Layer (type)                Output Shape              Param #   \n",
      "=================================================================\n",
      " Hidden-Layer-1 (Dense)      (None, 32)                146144    \n",
      "                                                                 \n",
      " Hidden-Layer-2 (Dense)      (None, 32)                1056      \n",
      "                                                                 \n",
      " Output-Layer-3 (Dense)      (None, 2)                 66        \n",
      "                                                                 \n",
      "=================================================================\n",
      "Total params: 147,266\n",
      "Trainable params: 147,266\n",
      "Non-trainable params: 0\n",
      "_________________________________________________________________\n"
     ]
    }
   ],
   "source": [
    "from tensorflow import keras\n",
    "from tensorflow.keras import optimizers\n",
    "from tensorflow.keras.regularizers import l2\n",
    "\n",
    "# Number of classes in the target variables\n",
    "NB_Classes = 2\n",
    "N_HIDDEN = 32\n",
    "\n",
    "# Create a sequential model in Keras\n",
    "model = tf.keras.models.Sequential()\n",
    "\n",
    "#Add a first hidden layer with relu activation\n",
    "model.add(keras.layers.Dense(N_HIDDEN, input_shape =(X_train.shape[1], ), name='Hidden-Layer-1', activation='relu'))\n",
    "\n",
    "#Add a second hidden layer with relu activation\n",
    "model.add(keras.layers.Dense(N_HIDDEN, name ='Hidden-Layer-2', activation='relu'))\n",
    "\n",
    "#Add an output layer with softmax activation\n",
    "model.add(keras.layers.Dense(NB_Classes, name='Output-Layer-3', activation='softmax'))\n",
    "\n",
    "#Compile the model with loss and metrics\n",
    "model.compile(loss = 'categorical_crossentropy', metrics = ['accuracy'])\n",
    "\n",
    "# Print the model meta-data\n",
    "model.summary()"
   ]
  },
  {
   "cell_type": "markdown",
   "id": "c4c2b190",
   "metadata": {},
   "source": [
    "### Training a model"
   ]
  },
  {
   "cell_type": "code",
   "execution_count": 8,
   "id": "4d5372d4",
   "metadata": {},
   "outputs": [
    {
     "name": "stdout",
     "output_type": "stream",
     "text": [
      "\n",
      "Training Progess: \n",
      "-----------------\n",
      "Epoch 1/10\n",
      "5/5 [==============================] - 1s 67ms/step - loss: 0.6874 - accuracy: 0.6806 - val_loss: 0.6695 - val_accuracy: 0.7556\n",
      "Epoch 2/10\n",
      "5/5 [==============================] - 0s 17ms/step - loss: 0.6478 - accuracy: 0.9222 - val_loss: 0.6282 - val_accuracy: 0.9000\n",
      "Epoch 3/10\n",
      "5/5 [==============================] - 0s 17ms/step - loss: 0.5904 - accuracy: 0.9769 - val_loss: 0.5803 - val_accuracy: 0.9296\n",
      "Epoch 4/10\n",
      "5/5 [==============================] - 0s 17ms/step - loss: 0.5262 - accuracy: 0.9852 - val_loss: 0.5292 - val_accuracy: 0.9407\n",
      "Epoch 5/10\n",
      "5/5 [==============================] - 0s 17ms/step - loss: 0.4598 - accuracy: 0.9889 - val_loss: 0.4801 - val_accuracy: 0.9333\n",
      "Epoch 6/10\n",
      "5/5 [==============================] - 0s 18ms/step - loss: 0.3977 - accuracy: 0.9898 - val_loss: 0.4349 - val_accuracy: 0.9370\n",
      "Epoch 7/10\n",
      "5/5 [==============================] - 0s 17ms/step - loss: 0.3416 - accuracy: 0.9917 - val_loss: 0.3957 - val_accuracy: 0.9370\n",
      "Epoch 8/10\n",
      "5/5 [==============================] - 0s 16ms/step - loss: 0.2916 - accuracy: 0.9917 - val_loss: 0.3568 - val_accuracy: 0.9370\n",
      "Epoch 9/10\n",
      "5/5 [==============================] - 0s 14ms/step - loss: 0.2470 - accuracy: 0.9926 - val_loss: 0.3238 - val_accuracy: 0.9444\n",
      "Epoch 10/10\n",
      "5/5 [==============================] - 0s 15ms/step - loss: 0.2084 - accuracy: 0.9935 - val_loss: 0.2991 - val_accuracy: 0.9370\n",
      "\n",
      "Accuracy during Training Progess: \n",
      "-----------------\n"
     ]
    },
    {
     "data": {
      "image/png": "[encoded data removed]",
      "text/plain": [
       "<Figure size 800x500 with 1 Axes>"
      ]
     },
     "metadata": {},
     "output_type": "display_data"
    },
    {
     "name": "stdout",
     "output_type": "stream",
     "text": [
      "\n",
      "Evaluation against the test dataset: \n",
      "-----------------\n",
      "5/5 [==============================] - 0s 4ms/step - loss: 0.2973 - accuracy: 0.9733\n"
     ]
    },
    {
     "data": {
      "text/plain": [
       "[0.29733768105506897, 0.9733333587646484]"
      ]
     },
     "execution_count": 8,
     "metadata": {},
     "output_type": "execute_result"
    }
   ],
   "source": [
    "# Making it versbose to view the progress\n",
    "VERBOSE = 1\n",
    "\n",
    "# Setting up Hyper Parameters for training\n",
    "\n",
    "# Set Batch Size\n",
    "BATCH_SIZE = 256\n",
    "\n",
    "#Set number of epochs\n",
    "EPOCHS = 10\n",
    "\n",
    "#Set validation split. 20% of the training data will be used for validation after each epoch\n",
    "VALIDATION_SPLIT = 0.2\n",
    "\n",
    "print(\"\\nTraining Progess: \\n-----------------\")\n",
    "\n",
    "#Fit the model. This will perform the entire training cycle, including forward propagation, loss computation, backpropagation \n",
    "#and gradient descent.\n",
    "# Execute for the specified batch sizes and epoch\n",
    "# Perform validation after each epoch\n",
    "history = model.fit(X_train, Y_train, batch_size=BATCH_SIZE, epochs=EPOCHS, verbose=VERBOSE, validation_split=VALIDATION_SPLIT)\n",
    "\n",
    "print(\"\\nAccuracy during Training Progess: \\n-----------------\")\n",
    "import matplotlib.pyplot as plt\n",
    "\n",
    "# Plot accuracy of the model after each epoch\n",
    "pd.DataFrame(history.history)['accuracy'].plot(figsize=(8, 5))\n",
    "plt.title(\"Accuracy of the model after each epoch\")\n",
    "plt.xlabel(\"Number of Epochs\")\n",
    "plt.ylabel(\"Accuracy of the model\")\n",
    "plt.show() \n",
    "\n",
    "#Evaluate the model against the test dataset and print the results\n",
    "print(\"\\nEvaluation against the test dataset: \\n-----------------\")\n",
    "model.evaluate(X_test, Y_test)"
   ]
  },
  {
   "cell_type": "markdown",
   "id": "bfdb22b5",
   "metadata": {},
   "source": [
    "### Predictions with a Deep Learning Model - Unstructured Data"
   ]
  },
  {
   "cell_type": "code",
   "execution_count": 10,
   "id": "bf534484",
   "metadata": {},
   "outputs": [
    {
     "name": "stdout",
     "output_type": "stream",
     "text": [
      "(4, 4566)\n",
      "1/1 [==============================] - 0s 23ms/step\n",
      "Prediction Output: [1 0 1 0]\n",
      "Prediction Class are  ['spam' 'ham' 'spam' 'ham']\n"
     ]
    }
   ],
   "source": [
    "# Predict for multiple samples using batch processing\n",
    "\n",
    "# Convert input into TF-IDF vector using the same vectorizor model\n",
    "predict_tfidf = vectorizer.transform([\"Free Entry to a fun contest\", \"Yup I will come over\", \"Earn free money from a lottery\", \n",
    "                                      \"Urgent business meeting\"]).toarray()\n",
    "\n",
    "print(predict_tfidf.shape)\n",
    "\n",
    "#Predict using model\n",
    "prediction = np.argmax(model.predict(predict_tfidf), axis=1)\n",
    "print(\"Prediction Output:\", prediction)\n",
    "\n",
    "#Print Prediction Classes\n",
    "print(\"Prediction Class are \", label_encoder.inverse_transform(prediction))\n"
   ]
  },
  {
   "cell_type": "code",
   "execution_count": null,
   "id": "6db9579f",
   "metadata": {},
   "outputs": [],
   "source": []
  }
 ],
 "metadata": {
  "kernelspec": {
   "display_name": "Python 3",
   "language": "python",
   "name": "python3"
  },
  "language_info": {
   "codemirror_mode": {
    "name": "ipython",
    "version": 3
   },
   "file_extension": ".py",
   "mimetype": "text/x-python",
   "name": "python",
   "nbconvert_exporter": "python",
   "pygments_lexer": "ipython3",
   "version": "3.8.11"
  }
 },
 "nbformat": 4,
 "nbformat_minor": 5
}
