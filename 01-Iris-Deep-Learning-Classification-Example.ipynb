{
 "cells": [
  {
   "cell_type": "markdown",
   "id": "3aca441d",
   "metadata": {},
   "source": [
    "## Deep Learning ANN Model with Structured Data to predict Iris Flower speices"
   ]
  },
  {
   "cell_type": "code",
   "execution_count": 1,
   "id": "a04d014b",
   "metadata": {},
   "outputs": [],
   "source": [
    "! python -c 'tensorflow' || pip tensorflow --user"
   ]
  },
  {
   "cell_type": "code",
   "execution_count": 2,
   "id": "e3249bd0",
   "metadata": {},
   "outputs": [],
   "source": [
    "import tensorflow as tf\n",
    "import os\n",
    "import numpy as np\n",
    "import pandas as pd\n",
    "from sklearn.model_selection import train_test_split\n",
    "from sklearn.preprocessing import StandardScaler"
   ]
  },
  {
   "cell_type": "code",
   "execution_count": 3,
   "id": "6a417e54",
   "metadata": {},
   "outputs": [
    {
     "name": "stdout",
     "output_type": "stream",
     "text": [
      "2.10.1\n"
     ]
    }
   ],
   "source": [
    "print(tf.__version__)"
   ]
  },
  {
   "cell_type": "code",
   "execution_count": 4,
   "id": "d5a39df0",
   "metadata": {},
   "outputs": [
    {
     "name": "stdout",
     "output_type": "stream",
     "text": [
      "-----------------\n",
      "Loaded Data : \n",
      "-----------------\n"
     ]
    }
   ],
   "source": [
    "# Load Data and review contents\n",
    "iris_data = pd.read_csv(\"iris.csv\")\n",
    "print(\"-----------------\\nLoaded Data : \\n-----------------\")"
   ]
  },
  {
   "cell_type": "code",
   "execution_count": 5,
   "id": "1e54720b",
   "metadata": {},
   "outputs": [
    {
     "name": "stdout",
     "output_type": "stream",
     "text": [
      "   Sepal.Length  Sepal.Width  Petal.Length  Petal.Width Species\n",
      "0           5.1          3.5           1.4          0.2  setosa\n",
      "1           4.9          3.0           1.4          0.2  setosa\n",
      "2           4.7          3.2           1.3          0.2  setosa\n",
      "3           4.6          3.1           1.5          0.2  setosa\n",
      "4           5.0          3.6           1.4          0.2  setosa\n"
     ]
    }
   ],
   "source": [
    "print(iris_data.head())"
   ]
  },
  {
   "cell_type": "code",
   "execution_count": 6,
   "id": "377acf34",
   "metadata": {},
   "outputs": [],
   "source": [
    "# Using a label encoder to convert String to numeric values for the target variables\n",
    "from sklearn import preprocessing\n",
    "label_encoder = preprocessing.LabelEncoder()\n",
    "iris_data['Species'] = label_encoder.fit_transform(iris_data['Species'])"
   ]
  },
  {
   "cell_type": "code",
   "execution_count": 7,
   "id": "7d3b09c2",
   "metadata": {},
   "outputs": [],
   "source": [
    "# Converting an input to a numpy array\n",
    "np_iris = iris_data.to_numpy()"
   ]
  },
  {
   "cell_type": "code",
   "execution_count": 8,
   "id": "d217ab20",
   "metadata": {},
   "outputs": [],
   "source": [
    "# Seperating feature and target variables\n",
    "X_data = np_iris[:, 0:4]\n",
    "Y_data = np_iris[:,-1]"
   ]
  },
  {
   "cell_type": "code",
   "execution_count": 9,
   "id": "3d183c4e",
   "metadata": {},
   "outputs": [
    {
     "name": "stdout",
     "output_type": "stream",
     "text": [
      "\n",
      "Feature variables before scaling : \n",
      "-----------------\n",
      "[[5.1 3.5 1.4 0.2]\n",
      " [4.9 3.  1.4 0.2]\n",
      " [4.7 3.2 1.3 0.2]\n",
      " [4.6 3.1 1.5 0.2]\n",
      " [5.  3.6 1.4 0.2]]\n",
      "\n",
      "Target variables before scaling : \n",
      "-----------------\n",
      "[0. 0. 0. 0. 0.]\n"
     ]
    }
   ],
   "source": [
    "# Validating feature variables\n",
    "print(\"\\nFeature variables before scaling : \\n-----------------\")\n",
    "print(X_data[:5, :])\n",
    "# Validating target variables\n",
    "print(\"\\nTarget variables before scaling : \\n-----------------\")\n",
    "print(Y_data[:5])"
   ]
  },
  {
   "cell_type": "code",
   "execution_count": 10,
   "id": "b319c9f5",
   "metadata": {},
   "outputs": [],
   "source": [
    "# Creating a scalar model to fit the input data\n",
    "scaler = StandardScaler().fit(X_data)\n",
    "\n",
    "# Scaling the neumeric feature variables\n",
    "X_data = scaler.transform(X_data)"
   ]
  },
  {
   "cell_type": "code",
   "execution_count": 11,
   "id": "f3c0ee25",
   "metadata": {},
   "outputs": [],
   "source": [
    "#Converting target variable as a one-hot-encoding array to create 3 columns to represent species  \n",
    "Y_data = tf.keras.utils.to_categorical(Y_data, 3)"
   ]
  },
  {
   "cell_type": "code",
   "execution_count": 12,
   "id": "222968cc",
   "metadata": {},
   "outputs": [
    {
     "name": "stdout",
     "output_type": "stream",
     "text": [
      "\n",
      "Feature variables after scaling : \n",
      "-----------------\n",
      "[[-0.90068117  1.01900435 -1.34022653 -1.3154443 ]\n",
      " [-1.14301691 -0.13197948 -1.34022653 -1.3154443 ]\n",
      " [-1.38535265  0.32841405 -1.39706395 -1.3154443 ]\n",
      " [-1.50652052  0.09821729 -1.2833891  -1.3154443 ]\n",
      " [-1.02184904  1.24920112 -1.34022653 -1.3154443 ]]\n",
      "\n",
      "Target variables after scaling : \n",
      "-----------------\n",
      "[[1. 0. 0.]\n",
      " [1. 0. 0.]\n",
      " [1. 0. 0.]\n",
      " [1. 0. 0.]\n",
      " [1. 0. 0.]]\n"
     ]
    }
   ],
   "source": [
    "# Validating feature variables\n",
    "print(\"\\nFeature variables after scaling : \\n-----------------\")\n",
    "print(X_data[:5, :])\n",
    "\n",
    "# Validating target variables\n",
    "print(\"\\nTarget variables after scaling : \\n-----------------\")\n",
    "print(Y_data[:5])"
   ]
  },
  {
   "cell_type": "code",
   "execution_count": 13,
   "id": "f1767946",
   "metadata": {},
   "outputs": [
    {
     "name": "stdout",
     "output_type": "stream",
     "text": [
      "\n",
      "Train Test Dimentions : \n",
      "-----------------\n",
      "(135, 4) (135, 3) (15, 4) (15, 3)\n"
     ]
    }
   ],
   "source": [
    "# Splitting training and test data\n",
    "X_train, X_test, Y_train, Y_test = train_test_split(X_data, Y_data, test_size=0.10)\n",
    "\n",
    "print(\"\\nTrain Test Dimentions : \\n-----------------\")\n",
    "print(X_train.shape, Y_train.shape, X_test.shape, Y_test.shape)"
   ]
  },
  {
   "cell_type": "markdown",
   "id": "57c432e8",
   "metadata": {},
   "source": [
    "## Creating a Model"
   ]
  },
  {
   "cell_type": "code",
   "execution_count": 14,
   "id": "c7c31d74",
   "metadata": {},
   "outputs": [],
   "source": [
    "from tensorflow import keras"
   ]
  },
  {
   "cell_type": "code",
   "execution_count": 15,
   "id": "cec917ef",
   "metadata": {},
   "outputs": [
    {
     "name": "stdout",
     "output_type": "stream",
     "text": [
      "Model: \"sequential\"\n",
      "_________________________________________________________________\n",
      " Layer (type)                Output Shape              Param #   \n",
      "=================================================================\n",
      " Hidden-Layer-1 (Dense)      (None, 128)               640       \n",
      "                                                                 \n",
      " Hidden-Layer-2 (Dense)      (None, 128)               16512     \n",
      "                                                                 \n",
      " Output-Layer-3 (Dense)      (None, 3)                 387       \n",
      "                                                                 \n",
      "=================================================================\n",
      "Total params: 17,539\n",
      "Trainable params: 17,539\n",
      "Non-trainable params: 0\n",
      "_________________________________________________________________\n"
     ]
    }
   ],
   "source": [
    "# Number of cclasses in the target variables\n",
    "NB_Classes = 3\n",
    "\n",
    "# Create a sequential model in Keras\n",
    "model = tf.keras.models.Sequential()\n",
    "\n",
    "#Add a first hidden layer with relu activation\n",
    "model.add(keras.layers.Dense(128, input_shape =(4, ), name='Hidden-Layer-1', activation='relu'))\n",
    "\n",
    "#Add a second hidden layer with relu activation\n",
    "model.add(keras.layers.Dense(128, name ='Hidden-Layer-2', activation='relu'))\n",
    "\n",
    "#Add an output layer with softmax activation\n",
    "model.add(keras.layers.Dense(NB_Classes, name='Output-Layer-3', activation='softmax'))\n",
    "\n",
    "#Compile the model with loss and metrics\n",
    "model.compile(loss = 'categorical_crossentropy', metrics = ['accuracy'])\n",
    "\n",
    "# Print the model meta-data\n",
    "model.summary()"
   ]
  },
  {
   "cell_type": "markdown",
   "id": "5c86b955",
   "metadata": {},
   "source": [
    "## Training and evaluating the Model"
   ]
  },
  {
   "cell_type": "code",
   "execution_count": 16,
   "id": "25ba6b1f",
   "metadata": {},
   "outputs": [
    {
     "name": "stdout",
     "output_type": "stream",
     "text": [
      "\n",
      "Training Progess: \n",
      "-----------------\n",
      "Epoch 1/10\n",
      "7/7 [==============================] - 1s 45ms/step - loss: 0.8491 - accuracy: 0.6481 - val_loss: 0.6581 - val_accuracy: 0.8519\n",
      "Epoch 2/10\n",
      "7/7 [==============================] - 0s 11ms/step - loss: 0.5773 - accuracy: 0.8056 - val_loss: 0.4865 - val_accuracy: 0.8889\n",
      "Epoch 3/10\n",
      "7/7 [==============================] - 0s 12ms/step - loss: 0.4717 - accuracy: 0.8056 - val_loss: 0.4238 - val_accuracy: 0.8889\n",
      "Epoch 4/10\n",
      "7/7 [==============================] - 0s 12ms/step - loss: 0.4056 - accuracy: 0.8611 - val_loss: 0.3447 - val_accuracy: 0.9259\n",
      "Epoch 5/10\n",
      "7/7 [==============================] - 0s 10ms/step - loss: 0.3521 - accuracy: 0.8704 - val_loss: 0.3170 - val_accuracy: 0.8889\n",
      "Epoch 6/10\n",
      "7/7 [==============================] - 0s 11ms/step - loss: 0.3188 - accuracy: 0.9167 - val_loss: 0.2718 - val_accuracy: 0.8889\n",
      "Epoch 7/10\n",
      "7/7 [==============================] - 0s 13ms/step - loss: 0.2839 - accuracy: 0.9167 - val_loss: 0.2331 - val_accuracy: 0.8889\n",
      "Epoch 8/10\n",
      "7/7 [==============================] - 0s 11ms/step - loss: 0.2609 - accuracy: 0.8981 - val_loss: 0.2154 - val_accuracy: 0.8889\n",
      "Epoch 9/10\n",
      "7/7 [==============================] - 0s 13ms/step - loss: 0.2302 - accuracy: 0.9352 - val_loss: 0.1914 - val_accuracy: 0.9259\n",
      "Epoch 10/10\n",
      "7/7 [==============================] - 0s 12ms/step - loss: 0.2150 - accuracy: 0.9259 - val_loss: 0.1836 - val_accuracy: 0.8889\n",
      "\n",
      "Accuracy during Training Progess: \n",
      "-----------------\n"
     ]
    },
    {
     "data": {
      "image/png": "[encoded data removed]",
      "text/plain": [
       "<Figure size 800x500 with 1 Axes>"
      ]
     },
     "metadata": {},
     "output_type": "display_data"
    },
    {
     "name": "stdout",
     "output_type": "stream",
     "text": [
      "\n",
      "Evaluation against the test dataset: \n",
      "-----------------\n",
      "1/1 [==============================] - 0s 30ms/step - loss: 0.1923 - accuracy: 0.9333\n"
     ]
    },
    {
     "data": {
      "text/plain": [
       "[0.19234906136989594, 0.9333333373069763]"
      ]
     },
     "execution_count": 16,
     "metadata": {},
     "output_type": "execute_result"
    }
   ],
   "source": [
    "# Making it versbose to view the progress\n",
    "VERBOSE = 1\n",
    "\n",
    "# Setting up Hyper Parameters for training\n",
    "\n",
    "# Set Batch Size\n",
    "BATCH_SIZE = 16\n",
    "\n",
    "#Set number of epochs\n",
    "EPOCHS = 10\n",
    "\n",
    "#Set validation split. 20% of the training data will be used for validation after each epoch\n",
    "VALIDATION_SPLIT = 0.2\n",
    "\n",
    "print(\"\\nTraining Progess: \\n-----------------\")\n",
    "\n",
    "#Fit the model. This will perform the entire training cycle, including forward propagation, loss computation, backpropagation \n",
    "#and gradient descent.\n",
    "# Execute for the specified batch sizes and epoch\n",
    "# Perform validation after each epoch\n",
    "history = model.fit(X_train, Y_train, batch_size=BATCH_SIZE, epochs=EPOCHS, verbose=VERBOSE, validation_split=VALIDATION_SPLIT)\n",
    "\n",
    "print(\"\\nAccuracy during Training Progess: \\n-----------------\")\n",
    "import matplotlib.pyplot as plt\n",
    "\n",
    "# Plot accuracy of the model after each epoch\n",
    "pd.DataFrame(history.history)['accuracy'].plot(figsize=(8, 5))\n",
    "plt.title(\"Accuracy of the model after each epoch\")\n",
    "plt.xlabel(\"Number of Epochs\")\n",
    "plt.ylabel(\"Accuracy of the model\")\n",
    "plt.show() \n",
    "\n",
    "#Evaluate the model against the test dataset and print the results\n",
    "print(\"\\nEvaluation against the test dataset: \\n-----------------\")\n",
    "model.evaluate(X_test, Y_test)"
   ]
  },
  {
   "cell_type": "markdown",
   "id": "e4433ebe",
   "metadata": {},
   "source": [
    "## Saving and Loading the Models\n",
    "#### The training and inference are usally separate. Models need to be saved after they are validated. Models are then loaded into the inference environments for actual prediction"
   ]
  },
  {
   "cell_type": "code",
   "execution_count": 19,
   "id": "25c95a82",
   "metadata": {},
   "outputs": [
    {
     "name": "stdout",
     "output_type": "stream",
     "text": [
      "Model: \"sequential\"\n",
      "_________________________________________________________________\n",
      " Layer (type)                Output Shape              Param #   \n",
      "=================================================================\n",
      " Hidden-Layer-1 (Dense)      (None, 128)               640       \n",
      "                                                                 \n",
      " Hidden-Layer-2 (Dense)      (None, 128)               16512     \n",
      "                                                                 \n",
      " Output-Layer-3 (Dense)      (None, 3)                 387       \n",
      "                                                                 \n",
      "=================================================================\n",
      "Total params: 17,539\n",
      "Trainable params: 17,539\n",
      "Non-trainable params: 0\n",
      "_________________________________________________________________\n"
     ]
    }
   ],
   "source": [
    "# Saving a model\n",
    "model.save(\"iris_save\")\n",
    "\n",
    "#Loading a saved Model\n",
    "load_model = keras.models.load_model(\"iris_save\")\n",
    "\n",
    "#Print Model Summary\n",
    "load_model.summary()"
   ]
  },
  {
   "cell_type": "markdown",
   "id": "1aecaeff",
   "metadata": {},
   "source": [
    "### Predictions with a Deep Learning Model"
   ]
  },
  {
   "cell_type": "code",
   "execution_count": 30,
   "id": "0fb9ec31",
   "metadata": {},
   "outputs": [
    {
     "name": "stdout",
     "output_type": "stream",
     "text": [
      "1/1 [==============================] - 0s 22ms/step\n",
      "Raw Prediction Output (Probabilities) : [[0.01944748 0.75395554 0.22659698]]\n",
      "Prediction is  ['versicolor']\n"
     ]
    }
   ],
   "source": [
    "# Raw Prediction data\n",
    "prediction_input = [[6.6, 3., 4.4, 1.4]]\n",
    "\n",
    "\n",
    "#Scale prediction data with the same scaling model\n",
    "scaled_input = scaler.transform(prediction_input)\n",
    "\n",
    "#Get raw prediction probabilities from np.argmax\n",
    "raw_prediction = model.predict(scaled_input)\n",
    "print(\"Raw Prediction Output (Probabilities) :\", raw_prediction)\n",
    "\n",
    "#Find prediction\n",
    "prediction = np.argmax(raw_prediction)\n",
    "print(\"Prediction is \", label_encoder.inverse_transform([prediction]))"
   ]
  }
 ],
 "metadata": {
  "kernelspec": {
   "display_name": "Python 3",
   "language": "python",
   "name": "python3"
  },
  "language_info": {
   "codemirror_mode": {
    "name": "ipython",
    "version": 3
   },
   "file_extension": ".py",
   "mimetype": "text/x-python",
   "name": "python",
   "nbconvert_exporter": "python",
   "pygments_lexer": "ipython3",
   "version": "3.8.11"
  }
 },
 "nbformat": 4,
 "nbformat_minor": 5
}
