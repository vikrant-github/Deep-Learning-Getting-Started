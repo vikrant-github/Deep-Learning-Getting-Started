{
 "cells": [
  {
   "cell_type": "markdown",
   "id": "6ad0d2ac",
   "metadata": {},
   "source": [
    "### Deep Learning ANN Model with Structured Data to predict Classification of RCA"
   ]
  },
  {
   "cell_type": "code",
   "execution_count": 1,
   "id": "f065d1ed",
   "metadata": {},
   "outputs": [],
   "source": [
    "! python -c 'tensorflow' || pip tensorflow --user"
   ]
  },
  {
   "cell_type": "code",
   "execution_count": 2,
   "id": "f51b556d",
   "metadata": {},
   "outputs": [],
   "source": [
    "import tensorflow as tf\n",
    "import os \n",
    "import numpy as np\n",
    "import pandas as pd\n",
    "from sklearn.model_selection import train_test_split\n",
    "from sklearn.preprocessing import scale"
   ]
  },
  {
   "cell_type": "code",
   "execution_count": 3,
   "id": "03802cf9",
   "metadata": {},
   "outputs": [
    {
     "name": "stdout",
     "output_type": "stream",
     "text": [
      "-----------------\n",
      "Loaded Data : \n",
      "-----------------\n"
     ]
    }
   ],
   "source": [
    "# Load Data and review contents\n",
    "rca_data = pd.read_csv(\"root_cause_analysis.csv\")\n",
    "print(\"-----------------\\nLoaded Data : \\n-----------------\")"
   ]
  },
  {
   "cell_type": "code",
   "execution_count": 4,
   "id": "332413bf",
   "metadata": {},
   "outputs": [
    {
     "name": "stdout",
     "output_type": "stream",
     "text": [
      "   ID  CPU_LOAD  MEMORY_LEAK_LOAD  DELAY  ERROR_1000  ERROR_1001  ERROR_1002  \\\n",
      "0   1         0                 0      0           0           1           0   \n",
      "1   2         0                 0      0           0           0           0   \n",
      "2   3         0                 1      1           0           0           1   \n",
      "3   4         0                 1      0           1           1           0   \n",
      "4   5         1                 1      0           1           0           1   \n",
      "\n",
      "   ERROR_1003     ROOT_CAUSE  \n",
      "0           1    MEMORY_LEAK  \n",
      "1           1    MEMORY_LEAK  \n",
      "2           1    MEMORY_LEAK  \n",
      "3           1    MEMORY_LEAK  \n",
      "4           0  NETWORK_DELAY  \n"
     ]
    }
   ],
   "source": [
    "print(rca_data.head())"
   ]
  },
  {
   "cell_type": "code",
   "execution_count": 5,
   "id": "689cf970",
   "metadata": {},
   "outputs": [],
   "source": [
    "# Using a label encoder to convert String to numeric values for the target variables\n",
    "from sklearn import preprocessing\n",
    "label_encoder = preprocessing.LabelEncoder()\n",
    "rca_data['ROOT_CAUSE'] = label_encoder.fit_transform(rca_data['ROOT_CAUSE'])"
   ]
  },
  {
   "cell_type": "code",
   "execution_count": 6,
   "id": "e154c946",
   "metadata": {},
   "outputs": [],
   "source": [
    "# Convert Pandas DataFrame to a numpy vector\n",
    "np_rca_data = rca_data.to_numpy().astype(float)"
   ]
  },
  {
   "cell_type": "code",
   "execution_count": 7,
   "id": "cb0f0f96",
   "metadata": {},
   "outputs": [
    {
     "data": {
      "text/plain": [
       "array([[   1.,    0.,    0., ...,    0.,    1.,    1.],\n",
       "       [   2.,    0.,    0., ...,    0.,    1.,    1.],\n",
       "       [   3.,    0.,    1., ...,    1.,    1.,    1.],\n",
       "       ...,\n",
       "       [ 998.,    1.,    1., ...,    0.,    0.,    1.],\n",
       "       [ 999.,    0.,    1., ...,    0.,    0.,    2.],\n",
       "       [1000.,    1.,    0., ...,    1.,    0.,    0.]])"
      ]
     },
     "execution_count": 7,
     "metadata": {},
     "output_type": "execute_result"
    }
   ],
   "source": [
    "np_rca_data"
   ]
  },
  {
   "cell_type": "markdown",
   "id": "21c5d48c",
   "metadata": {},
   "source": [
    "### Extract Feature and Target Variables"
   ]
  },
  {
   "cell_type": "code",
   "execution_count": 8,
   "id": "657050c5",
   "metadata": {},
   "outputs": [
    {
     "name": "stdout",
     "output_type": "stream",
     "text": [
      "\n",
      "Feature variables : \n",
      "-----------------\n",
      "[[0. 0. 0. 0. 1. 0. 1.]\n",
      " [0. 0. 0. 0. 0. 0. 1.]\n",
      " [0. 1. 1. 0. 0. 1. 1.]\n",
      " [0. 1. 0. 1. 1. 0. 1.]\n",
      " [1. 1. 0. 1. 0. 1. 0.]]\n",
      "\n",
      "Target variables : \n",
      "-----------------\n",
      "[1. 1. 1. 1. 2.]\n"
     ]
    }
   ],
   "source": [
    "#Extract the feature variables X\n",
    "X_data = np_rca_data[:, 1:8]\n",
    "\n",
    "#Extract the Target Variables Y\n",
    "Y_data = np_rca_data[:, -1]\n",
    "print(\"\\nFeature variables : \\n-----------------\")\n",
    "print(X_data[:5, :])\n",
    "\n",
    "print(\"\\nTarget variables : \\n-----------------\")\n",
    "print(Y_data[:5])"
   ]
  },
  {
   "cell_type": "code",
   "execution_count": 9,
   "id": "1163d131",
   "metadata": {},
   "outputs": [],
   "source": [
    "#Converting target variable as a one-hot-encoding array to create 3 columns to represent categories  \n",
    "Y_data = tf.keras.utils.to_categorical(Y_data, 3)"
   ]
  },
  {
   "cell_type": "code",
   "execution_count": 10,
   "id": "d314efac",
   "metadata": {},
   "outputs": [
    {
     "name": "stdout",
     "output_type": "stream",
     "text": [
      "\n",
      "Train Test Dimentions : \n",
      "-----------------\n",
      "(900, 7) (900, 3) (100, 7) (100, 3)\n"
     ]
    }
   ],
   "source": [
    "# Splitting training and test data\n",
    "X_train, X_test, Y_train, Y_test = train_test_split(X_data, Y_data, test_size=0.10)\n",
    "\n",
    "print(\"\\nTrain Test Dimentions : \\n-----------------\")\n",
    "print(X_train.shape, Y_train.shape, X_test.shape, Y_test.shape)"
   ]
  },
  {
   "cell_type": "markdown",
   "id": "f2ac1e07",
   "metadata": {},
   "source": [
    "### Building and Evaluating a Deep Learning Model for Predicting RCA Classification"
   ]
  },
  {
   "cell_type": "code",
   "execution_count": 11,
   "id": "d3ddd90a",
   "metadata": {},
   "outputs": [
    {
     "name": "stdout",
     "output_type": "stream",
     "text": [
      "Model: \"sequential\"\n",
      "_________________________________________________________________\n",
      " Layer (type)                Output Shape              Param #   \n",
      "=================================================================\n",
      " Hidden-Layer-1 (Dense)      (None, 128)               1024      \n",
      "                                                                 \n",
      " Hidden-Layer-2 (Dense)      (None, 128)               16512     \n",
      "                                                                 \n",
      " Output-Layer-3 (Dense)      (None, 3)                 387       \n",
      "                                                                 \n",
      "=================================================================\n",
      "Total params: 17,923\n",
      "Trainable params: 17,923\n",
      "Non-trainable params: 0\n",
      "_________________________________________________________________\n"
     ]
    }
   ],
   "source": [
    "from tensorflow import keras\n",
    "from tensorflow.keras import optimizers\n",
    "from tensorflow.keras.regularizers import l2\n",
    "\n",
    "# Number of cclasses in the target variables\n",
    "NB_Classes = len(label_encoder.classes_)\n",
    "N_HIDDEN=128\n",
    "\n",
    "# Create a sequential model in Keras\n",
    "model = tf.keras.models.Sequential()\n",
    "\n",
    "#Add a first hidden layer with relu activation\n",
    "model.add(keras.layers.Dense(N_HIDDEN, input_shape =(7, ), name='Hidden-Layer-1', activation='relu'))\n",
    "\n",
    "#Add a second hidden layer with relu activation\n",
    "model.add(keras.layers.Dense(N_HIDDEN, name ='Hidden-Layer-2', activation='relu'))\n",
    "\n",
    "#Add an output layer with softmax activation\n",
    "model.add(keras.layers.Dense(NB_Classes, name='Output-Layer-3', activation='softmax'))\n",
    "\n",
    "#Compile the model with loss and metrics\n",
    "model.compile(loss = 'categorical_crossentropy', metrics = ['accuracy'])\n",
    "\n",
    "# Print the model meta-data\n",
    "model.summary()"
   ]
  },
  {
   "cell_type": "code",
   "execution_count": 12,
   "id": "4fc1293c",
   "metadata": {},
   "outputs": [
    {
     "name": "stdout",
     "output_type": "stream",
     "text": [
      "\n",
      "Training Progess: \n",
      "-----------------\n",
      "Epoch 1/20\n",
      "12/12 [==============================] - 1s 25ms/step - loss: 0.8652 - accuracy: 0.7319 - val_loss: 0.6978 - val_accuracy: 0.7556\n",
      "Epoch 2/20\n",
      "12/12 [==============================] - 0s 9ms/step - loss: 0.6173 - accuracy: 0.7944 - val_loss: 0.5501 - val_accuracy: 0.7889\n",
      "Epoch 3/20\n",
      "12/12 [==============================] - 0s 9ms/step - loss: 0.5225 - accuracy: 0.8125 - val_loss: 0.5059 - val_accuracy: 0.7667\n",
      "Epoch 4/20\n",
      "12/12 [==============================] - 0s 9ms/step - loss: 0.4832 - accuracy: 0.8097 - val_loss: 0.4824 - val_accuracy: 0.8111\n",
      "Epoch 5/20\n",
      "12/12 [==============================] - 0s 9ms/step - loss: 0.4698 - accuracy: 0.8236 - val_loss: 0.4670 - val_accuracy: 0.8056\n",
      "Epoch 6/20\n",
      "12/12 [==============================] - 0s 9ms/step - loss: 0.4562 - accuracy: 0.8333 - val_loss: 0.4630 - val_accuracy: 0.8056\n",
      "Epoch 7/20\n",
      "12/12 [==============================] - 0s 8ms/step - loss: 0.4488 - accuracy: 0.8278 - val_loss: 0.4527 - val_accuracy: 0.8278\n",
      "Epoch 8/20\n",
      "12/12 [==============================] - 0s 9ms/step - loss: 0.4413 - accuracy: 0.8278 - val_loss: 0.4184 - val_accuracy: 0.8389\n",
      "Epoch 9/20\n",
      "12/12 [==============================] - 0s 9ms/step - loss: 0.4343 - accuracy: 0.8431 - val_loss: 0.4246 - val_accuracy: 0.8333\n",
      "Epoch 10/20\n",
      "12/12 [==============================] - 0s 9ms/step - loss: 0.4294 - accuracy: 0.8458 - val_loss: 0.4102 - val_accuracy: 0.8333\n",
      "Epoch 11/20\n",
      "12/12 [==============================] - 0s 8ms/step - loss: 0.4263 - accuracy: 0.8333 - val_loss: 0.4071 - val_accuracy: 0.8333\n",
      "Epoch 12/20\n",
      "12/12 [==============================] - 0s 9ms/step - loss: 0.4168 - accuracy: 0.8361 - val_loss: 0.4026 - val_accuracy: 0.8333\n",
      "Epoch 13/20\n",
      "12/12 [==============================] - 0s 10ms/step - loss: 0.4129 - accuracy: 0.8444 - val_loss: 0.4115 - val_accuracy: 0.8222\n",
      "Epoch 14/20\n",
      "12/12 [==============================] - 0s 9ms/step - loss: 0.4098 - accuracy: 0.8417 - val_loss: 0.4082 - val_accuracy: 0.8333\n",
      "Epoch 15/20\n",
      "12/12 [==============================] - 0s 9ms/step - loss: 0.4084 - accuracy: 0.8444 - val_loss: 0.3939 - val_accuracy: 0.8389\n",
      "Epoch 16/20\n",
      "12/12 [==============================] - 0s 9ms/step - loss: 0.3983 - accuracy: 0.8431 - val_loss: 0.3928 - val_accuracy: 0.8444\n",
      "Epoch 17/20\n",
      "12/12 [==============================] - 0s 10ms/step - loss: 0.3959 - accuracy: 0.8458 - val_loss: 0.3921 - val_accuracy: 0.8333\n",
      "Epoch 18/20\n",
      "12/12 [==============================] - 0s 9ms/step - loss: 0.3903 - accuracy: 0.8486 - val_loss: 0.3861 - val_accuracy: 0.8500\n",
      "Epoch 19/20\n",
      "12/12 [==============================] - 0s 10ms/step - loss: 0.3882 - accuracy: 0.8472 - val_loss: 0.3987 - val_accuracy: 0.8333\n",
      "Epoch 20/20\n",
      "12/12 [==============================] - 0s 9ms/step - loss: 0.3863 - accuracy: 0.8458 - val_loss: 0.3851 - val_accuracy: 0.8500\n",
      "\n",
      "Accuracy during Training Progess: \n",
      "-----------------\n"
     ]
    },
    {
     "data": {
      "image/png": "[encoded data removed]",
      "text/plain": [
       "<Figure size 800x500 with 1 Axes>"
      ]
     },
     "metadata": {},
     "output_type": "display_data"
    },
    {
     "name": "stdout",
     "output_type": "stream",
     "text": [
      "\n",
      "Evaluation against the test dataset: \n",
      "-----------------\n",
      "4/4 [==============================] - 0s 5ms/step - loss: 0.4180 - accuracy: 0.8700\n"
     ]
    },
    {
     "data": {
      "text/plain": [
       "[0.41804325580596924, 0.8700000047683716]"
      ]
     },
     "execution_count": 12,
     "metadata": {},
     "output_type": "execute_result"
    }
   ],
   "source": [
    "# Making it versbose to view the progress\n",
    "VERBOSE = 1\n",
    "\n",
    "# Setting up Hyper Parameters for training\n",
    "\n",
    "# Set Batch Size\n",
    "BATCH_SIZE = 64\n",
    "\n",
    "#Set number of epochs\n",
    "EPOCHS = 20\n",
    "\n",
    "#Set validation split. 20% of the training data will be used for validation after each epoch\n",
    "VALIDATION_SPLIT = 0.2\n",
    "\n",
    "print(\"\\nTraining Progess: \\n-----------------\")\n",
    "\n",
    "#Fit the model. This will perform the entire training cycle, including forward propagation, loss computation, backpropagation \n",
    "#and gradient descent.\n",
    "# Execute for the specified batch sizes and epoch\n",
    "# Perform validation after each epoch\n",
    "history = model.fit(X_train, Y_train, batch_size=BATCH_SIZE, epochs=EPOCHS, verbose=VERBOSE, validation_split=VALIDATION_SPLIT)\n",
    "\n",
    "print(\"\\nAccuracy during Training Progess: \\n-----------------\")\n",
    "import matplotlib.pyplot as plt\n",
    "\n",
    "# Plot accuracy of the model after each epoch\n",
    "pd.DataFrame(history.history)['accuracy'].plot(figsize=(8, 5))\n",
    "plt.title(\"Accuracy of the model after each epoch\")\n",
    "plt.xlabel(\"Number of Epochs\")\n",
    "plt.ylabel(\"Accuracy of the model\")\n",
    "plt.show() \n",
    "\n",
    "#Evaluate the model against the test dataset and print the results\n",
    "print(\"\\nEvaluation against the test dataset: \\n-----------------\")\n",
    "model.evaluate(X_test, Y_test)"
   ]
  },
  {
   "cell_type": "markdown",
   "id": "f0a44f0c",
   "metadata": {},
   "source": [
    "### Predicting Root Cause"
   ]
  },
  {
   "cell_type": "code",
   "execution_count": 13,
   "id": "e0af4c1c",
   "metadata": {},
   "outputs": [
    {
     "name": "stdout",
     "output_type": "stream",
     "text": [
      "1/1 [==============================] - 0s 115ms/step\n",
      "Prediction is  ['DATABASE_ISSUE']\n"
     ]
    }
   ],
   "source": [
    "import warnings\n",
    "\n",
    "warnings.filterwarnings(\"ignore\")\n",
    "\n",
    "# Pass the individual flags to predict the root cause\n",
    "CPU_lOAD = 1\n",
    "MEMORY_LEAK_LOAD = 0\n",
    "DELAY = 0\n",
    "ERROR_1000 = 0\n",
    "ERROR_1001 = 1\n",
    "ERROR_1002 = 1\n",
    "ERROR_1003 = 0\n",
    "\n",
    "prediction = np.argmax(model.predict(\n",
    "    [[CPU_lOAD,MEMORY_LEAK_LOAD,DELAY,ERROR_1000, ERROR_1001, ERROR_1002, ERROR_1003]]), \n",
    "                        axis=1)\n",
    "\n",
    "print(\"Prediction is \", label_encoder.inverse_transform([prediction]))"
   ]
  },
  {
   "cell_type": "markdown",
   "id": "e54946f2",
   "metadata": {},
   "source": [
    "### Predicting as a Batch"
   ]
  },
  {
   "cell_type": "code",
   "execution_count": 16,
   "id": "e2cacb3c",
   "metadata": {},
   "outputs": [
    {
     "name": "stdout",
     "output_type": "stream",
     "text": [
      "1/1 [==============================] - 0s 72ms/step\n",
      "Prediction is  ['DATABASE_ISSUE' 'NETWORK_DELAY' 'MEMORY_LEAK' 'DATABASE_ISSUE'\n",
      " 'DATABASE_ISSUE']\n"
     ]
    }
   ],
   "source": [
    "print(\"Prediction is \", label_encoder.inverse_transform(np.argmax(model.predict(\n",
    "    [[1, 0, 0, 0, 1, 1, 0], [0, 1, 1, 1, 0, 0, 0], [1, 1, 0, 1, 1, 0, 1], [0, 0, 0, 0, 0, 1, 0], [1, 0, 1, 0, 1, 1, 1]]), \n",
    "                        axis=1)))"
   ]
  }
 ],
 "metadata": {
  "kernelspec": {
   "display_name": "Python 3",
   "language": "python",
   "name": "python3"
  },
  "language_info": {
   "codemirror_mode": {
    "name": "ipython",
    "version": 3
   },
   "file_extension": ".py",
   "mimetype": "text/x-python",
   "name": "python",
   "nbconvert_exporter": "python",
   "pygments_lexer": "ipython3",
   "version": "3.8.11"
  }
 },
 "nbformat": 4,
 "nbformat_minor": 5
}
